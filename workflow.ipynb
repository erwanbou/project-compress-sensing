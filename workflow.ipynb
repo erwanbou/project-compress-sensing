{
 "cells": [
  {
   "cell_type": "code",
   "execution_count": 274,
   "metadata": {},
   "outputs": [],
   "source": [
    "import numpy as np \n",
    "from sklearn import linear_model\n",
    "from tqdm import tqdm\n",
    "import matplotlib.pyplot as plt\n",
    "# for my supacool dark theme:\n",
    "plt.style.use('dark_background')"
   ]
  },
  {
   "cell_type": "markdown",
   "metadata": {},
   "source": [
    "## Real data"
   ]
  },
  {
   "cell_type": "code",
   "execution_count": 4,
   "metadata": {},
   "outputs": [
    {
     "data": {
      "text/plain": [
       "'A_raw = pd.readcsv(path2data + )\\nx_raw =prd.readcsv(path2data + )\\ny_raw =prd.readcsv(path2data + )'"
      ]
     },
     "execution_count": 4,
     "metadata": {},
     "output_type": "execute_result"
    }
   ],
   "source": [
    "path2data= ''\n",
    "'''A_raw = pd.readcsv(path2data + )\n",
    "x_raw =prd.readcsv(path2data + )\n",
    "y_raw =prd.readcsv(path2data + )'''"
   ]
  },
  {
   "cell_type": "markdown",
   "metadata": {},
   "source": [
    "## Simulated data"
   ]
  },
  {
   "cell_type": "code",
   "execution_count": null,
   "metadata": {},
   "outputs": [],
   "source": [
    "# simul_data:\n",
    "# return a random sample of  coefficients with s \n",
    "## Input: n, p, h2\n",
    "## output y, A, x_true\n",
    "y, A, x_true = simul_data(n, p, h2)"
   ]
  },
  {
   "cell_type": "code",
   "execution_count": 329,
   "metadata": {},
   "outputs": [],
   "source": [
    "# test purporse\n",
    "nt = 100\n",
    "pt = 500\n",
    "st = 90\n",
    "At = np.random.normal(size=(nt, pt))"
   ]
  },
  {
   "cell_type": "code",
   "execution_count": 159,
   "metadata": {},
   "outputs": [],
   "source": [
    "'''# Simulate Phenotype y given a genotype matrix A\n",
    "Input:  A, genotype matrix (either real or simulated data)\n",
    "        s, sparsity of the x vector (number of non zeros coeffs)\n",
    "        h2, heritability (ratio of the phenotype explained by the genotype)\n",
    "        xtype, in ['uniform', 'hyperExp'(not coded yet)], type of coefficients simulated \n",
    "'''\n",
    "def genPhenotype(A, s, h2 = 1, xtype = 'uniform'):\n",
    "    n = A.shape[0]\n",
    "    p = A.shape[1]\n",
    "    x = np.ones(p)\n",
    "    if xtype == 'hyperExp':\n",
    "        x = np.exp(-(np.arange(p) + 1) / (.05*s)) + np.exp(-(np.arange(p)+1)/p)\n",
    "    # set s coefficients to zeros\n",
    "    x_mask = np.random.choice(np.arange(p), p-s, replace= False)\n",
    "    x[x_mask] = 0\n",
    "    np.random.shuffle(x_mask)\n",
    "    # heritability\n",
    "    x = np.sqrt(h2) * x / np.std(A.dot(x))\n",
    "    e = np.sqrt(1-h2) * np.random.normal(n)\n",
    "    y = A.dot(x) + e\n",
    "    return x, y\n",
    "\n",
    "#genPhenotype(At, st)"
   ]
  },
  {
   "cell_type": "markdown",
   "metadata": {},
   "source": [
    "## Recovery algorithm: Linear regression with Lasso"
   ]
  },
  {
   "cell_type": "markdown",
   "metadata": {},
   "source": [
    "We solve the following minimisation problem using scikit-learn : \n",
    "$$min_x [\\Vert y -Ax \\Vert_{L_2}^2+\\lambda \\Vert x \\Vert_{L_1}]$$"
   ]
  },
  {
   "cell_type": "code",
   "execution_count": 43,
   "metadata": {},
   "outputs": [],
   "source": [
    "def lasso(A, y, lambd = 0.1, normalize = True):\n",
    "    \"\"\"return the coefficient of the lasso regression of A over y, lambd is the regulizer parameter\n",
    "    \"\"\"\n",
    "    reg = linear_model.Lasso(lambd, normalize = normalize)\n",
    "    reg.fit(A, y)\n",
    "    return reg.coef_"
   ]
  },
  {
   "cell_type": "markdown",
   "metadata": {},
   "source": [
    "## Phase-transition "
   ]
  },
  {
   "cell_type": "code",
   "execution_count": 138,
   "metadata": {},
   "outputs": [],
   "source": [
    "# for the simulated assays\n",
    "def phase_transition_mat(A, h2 = 1, xtype = 'uniform', size = 10, nb_steps = 100):\n",
    "    \"\"\"return return a size by size matrix with the NE score for the lasso reconstruction procedure \n",
    "    A : measurement matrix (genotype)\n",
    "    x_true : true coefficients\n",
    "    y : phenotype\n",
    "    size : the size of the phase transition matrix\n",
    "    \"\"\"\n",
    "    # number of samples\n",
    "    n = A.shape[0]\n",
    "    # number of SNPs\n",
    "    p = A.shape[1]\n",
    "    PTM = np.zeros((size, size))\n",
    "    \n",
    "    for step in tqdm(range(nb_steps)):\n",
    "        # non zeros coefficients in the true x vector\n",
    "        s = np.random.randint(p) + 1\n",
    "        x, y = genPhenotype(A=A, s=s, h2=h2, xtype=xtype)\n",
    "        # we range over a number of samples\n",
    "        for n_tmp in n//nb_steps + np.arange(n, step=n//nb_steps):\n",
    "            delta = n_tmp / p\n",
    "            if delta == 1:\n",
    "                delta-=0.001\n",
    "            rho = s / n_tmp\n",
    "            if rho < 1:\n",
    "                ix = np.arange(n)\n",
    "                # select eandomly a subset of individuals\n",
    "                ix_tmp = np.random.choice(ix, n_tmp)\n",
    "                #print(A[ix_tmp,].shape, y[ix_tmp].shape)\n",
    "                #print(delta, rho)\n",
    "                x_pred = lasso(A[ix_tmp,], y[ix_tmp], lambd = .01)\n",
    "                #print(delta*size, rho*size)\n",
    "                #print(rho, delta)\n",
    "                #print(size - np.ceil(rho*size), np.floor(delta*size))\n",
    "                PTM[int(np.floor(rho*size)),int(np.floor(delta*size))] = np.linalg.norm(x-x_pred)/np.linalg.norm(x)\n",
    "        step+=1\n",
    "    return PTM"
   ]
  },
  {
   "cell_type": "code",
   "execution_count": 139,
   "metadata": {},
   "outputs": [
    {
     "name": "stderr",
     "output_type": "stream",
     "text": [
      "  2%|▏         | 2/100 [00:00<00:08, 11.16it/s]/home/matthieu/virtualenvs/python3.5/lib/python3.5/site-packages/sklearn/linear_model/coordinate_descent.py:484: ConvergenceWarning: Objective did not converge. You might want to increase the number of iterations. Fitting data with very small alpha may cause precision problems.\n",
      "  ConvergenceWarning)\n",
      "100%|██████████| 100/100 [00:05<00:00, 16.92it/s]\n"
     ]
    },
    {
     "data": {
      "text/plain": [
       "array([[ 0.        ,  0.03852472,  0.08579253,  0.09711748,  0.15312011,\n",
       "         0.19821778,  0.17141294,  0.24294008,  0.23179887,  0.29923302],\n",
       "       [ 0.03646536,  0.04999568,  0.16718821,  0.31128086,  0.21373861,\n",
       "         0.20701005,  0.20351673,  0.70693688,  0.7771765 ,  0.72395695],\n",
       "       [ 0.03280348,  0.08631754,  0.66584684,  0.16737095,  0.48653311,\n",
       "         0.88557926,  0.71743397,  0.74743559,  0.58477962,  0.81933807],\n",
       "       [ 1.44424241,  1.06017756,  0.63473882,  0.66278163,  0.79035021,\n",
       "         0.7172276 ,  0.85498721,  0.74481219,  0.81593059,  0.75530062],\n",
       "       [ 1.12446801,  0.88573493,  0.81660144,  0.87863989,  0.7966087 ,\n",
       "         0.87160695,  0.93042456,  0.83374266,  0.92873848,  0.85466113],\n",
       "       [ 0.97208863,  1.04452145,  0.83305747,  0.95399062,  0.99580618,\n",
       "         0.80919339,  0.83130299,  0.85357703,  0.85869211,  0.92049079],\n",
       "       [ 1.43194051,  1.26778714,  0.95451323,  0.9497246 ,  0.90555851,\n",
       "         0.82124528,  0.97736606,  0.90658334,  0.94647437,  0.98952851],\n",
       "       [ 0.93096634,  1.06724911,  0.98082977,  1.0849146 ,  0.929901  ,\n",
       "         0.92346528,  0.92220153,  0.90701435,  0.88616589,  0.92052728],\n",
       "       [ 1.22299424,  1.09037485,  0.9371137 ,  1.1459444 ,  0.959829  ,\n",
       "         0.93935808,  0.95196814,  0.94186275,  0.98278202,  0.9650896 ],\n",
       "       [ 0.        ,  1.09977221,  1.05528412,  0.98236812,  0.89557706,\n",
       "         0.88423022,  0.921737  ,  0.91651208,  0.94900856,  0.9222555 ]])"
      ]
     },
     "execution_count": 139,
     "metadata": {},
     "output_type": "execute_result"
    }
   ],
   "source": [
    "PTM = phase_transition_mat(At, h2 = 1)\n",
    "PTM"
   ]
  },
  {
   "cell_type": "markdown",
   "metadata": {},
   "source": [
    "# Plot the matrix of transition"
   ]
  },
  {
   "cell_type": "code",
   "execution_count": 133,
   "metadata": {},
   "outputs": [],
   "source": [
    "def frontier(mat, thres):\n",
    "    \"\"\"construction of the phase transition frontier, i.e. first time the NE score is below the thres value\"\"\"\n",
    "    L = []\n",
    "    N = len(mat)\n",
    "    for s in range(int(N)):\n",
    "        P = 0\n",
    "        while mat[P,s]<thres and P<N-1:\n",
    "            P = P + 1\n",
    "        L.append(P)\n",
    "    return L"
   ]
  },
  {
   "cell_type": "code",
   "execution_count": 140,
   "metadata": {},
   "outputs": [],
   "source": [
    "def plot_transition(M, thres = 0.5, save = False):\n",
    "    size = M.shape[0]\n",
    "    #rho_min, rho_max, delta_min, delta_max = 0, size, 0, size\n",
    "    fig = plt.imshow(M, interpolation=\"gaussian\",  \n",
    "                 aspect='auto', origin = 'lower', extent = [0, size, 0, size])\n",
    "    plt.xlabel(r'$\\delta = \\frac{n}{p}$')\n",
    "    plt.ylabel(r'$\\rho = \\frac{s}{n}$')\n",
    "\n",
    "    #empirical phase transition\n",
    "    X = range(size)\n",
    "    L = frontier(M, thres = thres)\n",
    "    plt.plot(X,L, linewidth=4, color = 'black', label='phase transition')\n",
    "    plt.legend(loc=4)\n",
    "    cax = plt.axes([1, 0.1, 0.075, 0.8])\n",
    "    plt.colorbar(cax=cax)\n",
    "    plt.show()\n",
    "    if save == True:\n",
    "        filename = 'transition_matrix.png'\n",
    "        plt.savefig(filename,bbox_inches='tight')"
   ]
  },
  {
   "cell_type": "code",
   "execution_count": 141,
   "metadata": {},
   "outputs": [
    {
     "data": {
      "image/png": "[encoded data removed]",
      "text/plain": [
       "<matplotlib.figure.Figure at 0x7f5ed1667630>"
      ]
     },
     "metadata": {},
     "output_type": "display_data"
    }
   ],
   "source": [
    "plot_transition(PTM)"
   ]
  },
  {
   "cell_type": "markdown",
   "metadata": {},
   "source": [
    "## Recovery measures:\n",
    "\n",
    "We implemented the different recovery measures developped in the paper:\n",
    "\n",
    "* **PPV**, Positive Predicted Value: the ratio between the number of True Positive and the number of selected Positive coefficients (i.e. the number of non-zero coefficients: $\\frac{\\#\\{x_i : x_i\\neq 0;\\hat x_i \\neq 0\\}}{\\#\\{\\hat x_i:\\hat x_i \\neq 0\\}}$\n",
    "\n",
    "* **FPR**, False Positive Rate: the ratio between the number of False Positive and the total number of Negative coefficients (i.e. the number of zero coefficients): $\\frac{\\#\\{x_i : x_i = 0;\\hat x_i \\neq 0\\}}{\\#\\{x_i:x_i = 0\\}}$ \n",
    "\n",
    "* **$med_{P-val}$**, the median of the P-values obtained when regressing the phenotypes on each selected SNP. For each of this regression, we compute the p-value associated to the t-test asserting if the coefficient of the regression is zero. We then take the median of these p-values. Note that, contrary to the other measures of recovery, this one could be computed in real experiments where we don't have access to the true coefficients x."
   ]
  },
  {
   "cell_type": "code",
   "execution_count": 363,
   "metadata": {},
   "outputs": [],
   "source": [
    "import statsmodels.formula.api as sm\n",
    "\n",
    "# positive predictive value\n",
    "def PPV(x, x_hat):\n",
    "    nb_tp = np.sum([1 for u,v in zip(x, x_hat) if (u != 0) and (v != 0)])\n",
    "    nb_pos = np.sum([1 for e in x_hat if e!=0])\n",
    "    assert nb_pos !=0, 'Error, x is null!'\n",
    "    return nb_tp/nb_pos\n",
    "\n",
    "def FPR(x, x_hat):\n",
    "    nb_fp = np.sum([1 for u,v in zip(x, x_hat) if (u==0) and (v!=0)])\n",
    "    nb_neg = np.sum([1 for e in x if e==0])\n",
    "    assert nb_neg !=0, 'Error, x is not sparse!'\n",
    "    return nb_fp/nb_neg\n",
    "\n",
    "def med_P(x_hat, y, A):\n",
    "    p_vals = []\n",
    "    for i in np.arange(len(y)):\n",
    "        if x_hat[i] != 0:\n",
    "            snp = A[:,i]\n",
    "            reg = sm.OLS(y, snp).fit()\n",
    "            p_vals.append(reg.t_test([1]).pvalue) \n",
    "    measure = np.median(np.array(p_vals))\n",
    "    print('{} of selected non zero coefficients (over {} total number of SNPs)'.format(len(p_vals), len(x_hat)))\n",
    "    return measure"
   ]
  },
  {
   "cell_type": "code",
   "execution_count": 364,
   "metadata": {},
   "outputs": [
    {
     "name": "stdout",
     "output_type": "stream",
     "text": [
      "15 of selected non zero coefficients (over 500 total number of SNPs)\n"
     ]
    },
    {
     "data": {
      "text/plain": [
       "0.074861000193505417"
      ]
     },
     "execution_count": 364,
     "metadata": {},
     "output_type": "execute_result"
    }
   ],
   "source": [
    "xt, yt = genPhenotype(At, 90)\n",
    "x_hatt = lasso(A=At, y=yt, lambd = 0.001)\n",
    "#print(x_hatt)\n",
    "med_P(x_hatt, yt, At)"
   ]
  },
  {
   "cell_type": "code",
   "execution_count": null,
   "metadata": {},
   "outputs": [],
   "source": []
  }
 ],
 "metadata": {
  "kernelspec": {
   "display_name": "Python 3",
   "language": "python",
   "name": "python3"
  },
  "language_info": {
   "codemirror_mode": {
    "name": "ipython",
    "version": 3
   },
   "file_extension": ".py",
   "mimetype": "text/x-python",
   "name": "python",
   "nbconvert_exporter": "python",
   "pygments_lexer": "ipython3",
   "version": "3.5.2"
  }
 },
 "nbformat": 4,
 "nbformat_minor": 2
}
