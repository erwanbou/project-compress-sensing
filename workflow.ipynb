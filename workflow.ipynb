{
 "cells": [
  {
   "cell_type": "code",
   "execution_count": 4,
   "metadata": {},
   "outputs": [],
   "source": [
    "import numpy as np \n",
    "import matplotlib.pyplot as plt\n",
    "\n",
    "from sklearn import linear_model\n",
    "import statsmodels.formula.api as sm\n",
    "\n",
    "from tqdm import tqdm\n",
    "\n",
    "import scipy.io as sio\n",
    "# for my supacool dark theme:\n",
    "plt.style.use('dark_background')"
   ]
  },
  {
   "cell_type": "markdown",
   "metadata": {},
   "source": [
    "## Real data"
   ]
  },
  {
   "cell_type": "code",
   "execution_count": 6,
   "metadata": {},
   "outputs": [
    {
     "data": {
      "text/plain": [
       "array([[ 0.01417329,  0.26962682,  0.27663048, ...,  0.36665057,\n",
       "         0.12281923,  0.13698795]])"
      ]
     },
     "execution_count": 6,
     "metadata": {},
     "output_type": "execute_result"
    }
   ],
   "source": [
    "path2data= ''\n",
    "'''A_raw = pd.readcsv(path2data + )\n",
    "x_raw =prd.readcsv(path2data + )\n",
    "y_raw =prd.readcsv(path2data + )'''\n",
    "\n",
    "maf = sio.loadmat('GD/chr22_maf.mat')['maf']\n",
    "maf"
   ]
  },
  {
   "cell_type": "code",
   "execution_count": 461,
   "metadata": {},
   "outputs": [
    {
     "data": {
      "text/plain": [
       "(1, 8915)"
      ]
     },
     "execution_count": 461,
     "metadata": {},
     "output_type": "execute_result"
    }
   ],
   "source": [
    "maf.shape"
   ]
  },
  {
   "cell_type": "markdown",
   "metadata": {},
   "source": [
    "## Simulated data"
   ]
  },
  {
   "cell_type": "code",
   "execution_count": 306,
   "metadata": {},
   "outputs": [],
   "source": [
    "# simul_data:\n",
    "# return a random sample of  coefficients with s \n",
    "## Input: n, p, eventually a MAF (Minor Allel Frequency) vector \n",
    "## output A, the genotype matrix\n",
    "def simul_data(n, p=500, maf=None, miss = 0., miss_value='average'):\n",
    "    '''\n",
    "    Simulate the matrix A\n",
    "    '''\n",
    "    A = []\n",
    "    if maf is None:\n",
    "        maf = np.random.uniform(low=0.1, high=0.5, size = (1, p))\n",
    "    else:\n",
    "        for idx, i in enumerate(maf[0]):\n",
    "            if i < 0.01:\n",
    "                maf[0][idx] = 0.01\n",
    "    for _ in range(n):\n",
    "        A.append(np.random.binomial(2, maf)[0])\n",
    "    A = np.array(A)\n",
    "    # st = A.std(axis=0)\n",
    "    # m = A.mean(axis=0)\n",
    "    # print(2*maf)\n",
    "    # print(1-maf)\n",
    "    A = (A-2*maf)/(2*maf*(1-maf))/np.sqrt(n)\n",
    "    \n",
    "    return A\n",
    "\n",
    "# With MAF    \n",
    "# B = simul_data(5000, p=10)"
   ]
  },
  {
   "cell_type": "code",
   "execution_count": 307,
   "metadata": {},
   "outputs": [],
   "source": [
    "# B.shape"
   ]
  },
  {
   "cell_type": "code",
   "execution_count": 308,
   "metadata": {},
   "outputs": [],
   "source": [
    "'''# Simulate Phenotype y given a genotype matrix A\n",
    "Input:  A, genotype matrix (either real or simulated data)\n",
    "        s, sparsity of the x vector (number of non zeros coeffs)\n",
    "        h2, heritability (ratio of the phenotype explained by the genotype)\n",
    "        xtype, in ['uniform', 'hyperExp'(not coded yet)], type of coefficients simulated \n",
    "'''\n",
    "def genPhenotype(A, s, h2 = 1., xtype = 'uniform'):\n",
    "    \n",
    "    assert xtype in ['uniform', 'hyperExp'], 'Error, xtype should be \"uniform\" or \"hyperExps\"'\n",
    "    \n",
    "    n = A.shape[0]\n",
    "    p = A.shape[1]\n",
    "    x = np.random.uniform(-1,1,p)\n",
    "    \n",
    "    if xtype == 'hyperExp':\n",
    "        x = np.exp(-(np.arange(p) + 1) / (.05*s)) + np.exp(-(np.arange(p)+1)/p)\n",
    "    # set s coefficients to zeros\n",
    "    x_mask = np.random.choice(np.arange(p), p-s, replace= False)\n",
    "    x[x_mask] = 0\n",
    "    # heritability\n",
    "    if h2<1.:\n",
    "        x = np.sqrt(h2) * x / np.std(A.dot(x))\n",
    "        e = np.sqrt(1.-h2) * np.random.normal(n)\n",
    "        y = A.dot(x) + e\n",
    "        return x, y, e\n",
    "    else:\n",
    "        x = x/np.std(A.dot(x))\n",
    "        return x, A.dot(x), 0\n",
    "#genPhenotype(At, st)"
   ]
  },
  {
   "cell_type": "code",
   "execution_count": null,
   "metadata": {},
   "outputs": [],
   "source": [
    "At = simul_data(100, 10, maf=maf)\n",
    "x, y, e = genPhenotype(A, 10)"
   ]
  },
  {
   "cell_type": "markdown",
   "metadata": {},
   "source": [
    "## Recovery algorithm: Linear regression with Lasso"
   ]
  },
  {
   "cell_type": "markdown",
   "metadata": {},
   "source": [
    "We solve the following minimisation problem using scikit-learn : \n",
    "$$min_x [\\Vert y -Ax \\Vert_{L_2}^2+\\lambda \\Vert x \\Vert_{L_1}]$$"
   ]
  },
  {
   "cell_type": "code",
   "execution_count": 631,
   "metadata": {},
   "outputs": [],
   "source": [
    "def lasso(A, y, lambd = 0.1, normalize = True):\n",
    "    \"\"\"return the coefficient of the lasso regression of A over y, lambd is the regulizer parameter\n",
    "    \"\"\"\n",
    "    reg = linear_model.Lasso(lambd/(2*A.shape[0]), normalize = normalize)\n",
    "    reg.fit(A, y)\n",
    "    return reg.coef_"
   ]
  },
  {
   "cell_type": "code",
   "execution_count": 632,
   "metadata": {},
   "outputs": [],
   "source": [
    "def iterativeLasso(A, y, nb_lambd=100, normalize=True, verbose=False):\n",
    "    \"\"\"implement the iterative lasso with the same regularization path as in the paper\"\"\"\n",
    "    n = A.shape[0]\n",
    "    lambd_max = np.linalg.norm(y.dot(A), ord = np.inf)/n\n",
    "    e = np.random.normal(size=(1000, n))\n",
    "    Ae_inf = [np.linalg.norm(v, ord = np.inf) for v in e.dot(A)]\n",
    "    var_e_corrected = np.sqrt(1 + 1/n)\n",
    "    lambd_min = np.median(Ae_inf) * var_e_corrected/n\n",
    "    alphas = np.linspace(lambd_min, lambd_max, nb_lambd)/(n)\n",
    "    reg = linear_model.LassoCV(alphas=alphas, normalize=normalize)\n",
    "    reg.fit(A, y)\n",
    "    return reg.coef_, reg.alpha_"
   ]
  },
  {
   "cell_type": "markdown",
   "metadata": {},
   "source": [
    "## Recovery measures:\n",
    "\n",
    "We implemented the different recovery measures developped in the paper:\n",
    "\n",
    "* **PPV**, Positive Predicted Value: the ratio between the number of True Positive and the number of selected Positive coefficients (i.e. the number of non-zero coefficients: $\\frac{\\#\\{x_i : x_i\\neq 0;\\hat x_i \\neq 0\\}}{\\#\\{\\hat x_i:\\hat x_i \\neq 0\\}}$\n",
    "\n",
    "* **FPR**, False Positive Rate: the ratio between the number of False Positive and the total number of Negative coefficients (i.e. the number of zero coefficients): $\\frac{\\#\\{x_i : x_i = 0;\\hat x_i \\neq 0\\}}{\\#\\{x_i:x_i = 0\\}}$ \n",
    "\n",
    "* **$med_{P-val}$**, the median of the P-values obtained when regressing the phenotypes on each selected SNP. For each of this regression, we compute the p-value associated to the t-test asserting if the coefficient of the regression is zero. We then take the median of these p-values. Note that, contrary to the other measures of recovery, this one could be computed in real experiments where we don't have access to the true coefficients x."
   ]
  },
  {
   "cell_type": "code",
   "execution_count": 633,
   "metadata": {},
   "outputs": [],
   "source": [
    "# positive predictive value\n",
    "def PPV(x, x_hat):\n",
    "    nb_tp = np.sum([1 for u,v in zip(x, x_hat) if (u != 0) and (v != 0)])\n",
    "    nb_pos = np.sum([1 for e in x_hat if e!=0])\n",
    "    assert nb_pos !=0, 'mError, x is null!'\n",
    "    return nb_tp/nb_pos\n",
    "\n",
    "def FPR(x, x_hat):\n",
    "    nb_fp = np.sum([1 for u,v in zip(x, x_hat) if (u==0) and (v!=0)])\n",
    "    nb_neg = np.sum([1 for e in x if e==0])\n",
    "    if nb_neg ==0:\n",
    "        print('FPR computation Warning, x is not sparse!')\n",
    "        return -1\n",
    "    return nb_fp/nb_neg\n",
    "\n",
    "def med_P(x_hat, y, A, verbose = False):\n",
    "    p_vals = []\n",
    "    for i in np.arange(len(y)):\n",
    "        if x_hat[i] != 0:\n",
    "            snp = A[:,i]\n",
    "            reg = sm.OLS(y, snp).fit()\n",
    "            p_vals.append(reg.t_test([1]).pvalue) \n",
    "    measure = np.median(np.array(p_vals))\n",
    "    if verbose:\n",
    "        print('{} selected non zero coefficients (over {} total number of SNPs)'.format(len(p_vals), len(x_hat)))\n",
    "    return measure"
   ]
  },
  {
   "cell_type": "markdown",
   "metadata": {},
   "source": [
    "## Phase-transition "
   ]
  },
  {
   "cell_type": "code",
   "execution_count": 638,
   "metadata": {},
   "outputs": [],
   "source": [
    "# for the simulated assays\n",
    "def phase_transition_mat(A, lambd = 0.1, h2 = 1, xtype = 'uniform', size = 20, recovery = False):\n",
    "    \"\"\"return return a size by size matrix with the NE score for the lasso reconstruction procedure \n",
    "    A : measurement matrix (genotype)\n",
    "    h2: heritability (control the )\n",
    "    size : the size of the phase transition matrix\n",
    "    \"\"\"\n",
    "    # number of samples\n",
    "    n = A.shape[0]\n",
    "    # number of SNPs\n",
    "    p = A.shape[1]\n",
    "    # In order to test all values for delta, we need to have enough data\n",
    "    assert n==p, \"ERROR, n must be equal to p\"\n",
    "    \n",
    "    PTM = np.zeros((size, size))\n",
    "    ix = np.arange(n)\n",
    "    lambdas = []\n",
    "    \n",
    "    if recovery:\n",
    "        PPV_mat = np.zeros((size, size))\n",
    "        FPR_mat = np.zeros((size, size))\n",
    "        medP_mat = np.zeros((size, size))\n",
    "    for i in tqdm(range(size)):\n",
    "\n",
    "        for j in range(size):\n",
    "            rho = (i+1)/size\n",
    "            delta = (j+1)/size\n",
    "            \n",
    "            n_tmp = int(p*delta)\n",
    "            s = int(rho*n_tmp)\n",
    "\n",
    "            ix_tmp = np.random.choice(ix, n_tmp, replace=False)\n",
    "            A_tmp = A[ix_tmp][:]\n",
    "            x, y, e = genPhenotype(A=A_tmp, s=s, h2=1.)\n",
    "            \n",
    "            # Choose if you want to prefer either a cross validation to select lambdas\n",
    "            # or a standart lasso with a given lambda (faster)\n",
    "            x_pred = lasso(A_tmp, y, lambd = lambd)\n",
    "            # x_pred, la = iterativeLasso(A_tmp, y, nb_lambd=100, normalize=True, verbose=False)\n",
    "            # lambdas.append(la)\n",
    "            norm = np.linalg.norm(x-x_pred)/np.linalg.norm(x)\n",
    "            # big errors (>1) are marked as 1.\n",
    "            PTM[i, j] = min([norm, 1.])\n",
    "            \n",
    "            if recovery:\n",
    "                PPV_mat[i, j] = PPV(x, x_pred)\n",
    "                FPR_mat[i, j] = FPR(x, x_pred)\n",
    "                medP_mat[i, j] = med_P(x_pred, y, A)\n",
    "                \n",
    "                \n",
    "    return PTM, lambdas"
   ]
  },
  {
   "cell_type": "code",
   "execution_count": null,
   "metadata": {},
   "outputs": [],
   "source": []
  },
  {
   "cell_type": "code",
   "execution_count": 640,
   "metadata": {},
   "outputs": [],
   "source": [
    "def warn(*args, **kwargs):\n",
    "    pass\n",
    "import warnings\n",
    "warnings.warn = warn\n"
   ]
  },
  {
   "cell_type": "code",
   "execution_count": null,
   "metadata": {},
   "outputs": [
    {
     "name": "stderr",
     "output_type": "stream",
     "text": [
      "\r",
      "  0%|          | 0/20 [00:00<?, ?it/s]"
     ]
    }
   ],
   "source": [
    "nt = 2000\n",
    "pt = 2000\n",
    "At = simul_data(n = nt, p = pt)\n",
    "\n",
    "PTM, lambdas = phase_transition_mat(At, lambd = 0.02, h2 = 1., xtype = 'hyperExp', size=20, recovery= False)\n",
    "# PTM[10]"
   ]
  },
  {
   "cell_type": "markdown",
   "metadata": {},
   "source": [
    "# Plot the matrix of transition"
   ]
  },
  {
   "cell_type": "code",
   "execution_count": 666,
   "metadata": {},
   "outputs": [],
   "source": [
    "def frontier(mat, thres, size):\n",
    "    \"\"\"construction of the phase transition frontier, i.e. first time the NE score is below the thres value\"\"\"\n",
    "    L = []\n",
    "    N = len(mat)\n",
    "    for s in range(int(N)):\n",
    "        P = 0\n",
    "        while mat[P,s]<thres and P<N-1:\n",
    "            P = P + 1\n",
    "        L.append(P/size)\n",
    "    return L"
   ]
  },
  {
   "cell_type": "code",
   "execution_count": 667,
   "metadata": {},
   "outputs": [],
   "source": [
    "def plot_transition(M, thres = 0.5, save = False):\n",
    "    size = M.shape[0]\n",
    "    #plt.figure(figsize=(8,8))\n",
    "    #rho_min, rho_max, delta_min, delta_max = 0, size, 0, size\n",
    "    fig = plt.imshow(M, interpolation=\"gaussian\",  \n",
    "                 aspect='auto', origin = 'lower', extent = [0., 1., 0., 1.])\n",
    "    plt.xlabel(r'$\\delta = \\frac{n}{p}$')\n",
    "    plt.ylabel(r'$\\rho = \\frac{s}{n}$')\n",
    "\n",
    "    #empirical phase transition\n",
    "    X = np.arange(0., 1., 1./size)\n",
    "    L = frontier(M, thres = thres, size=size)\n",
    "    plt.plot(X,L, linewidth=4, color = 'black', label='phase transition')\n",
    "    plt.legend(loc=1)\n",
    "    cax = plt.axes([1, 0.1, 0.075, 0.8])\n",
    "    plt.colorbar(cax=cax)\n",
    "    \n",
    "    if save == True:\n",
    "        filename = 'transition_matrix.png'\n",
    "        plt.savefig(filename,bbox_inches='tight')\n",
    "    plt.show()"
   ]
  },
  {
   "cell_type": "code",
   "execution_count": 668,
   "metadata": {
    "scrolled": true
   },
   "outputs": [
    {
     "data": {
      "image/png": "[encoded data removed]",
      "text/plain": [
       "<matplotlib.figure.Figure at 0x114e69240>"
      ]
     },
     "metadata": {},
     "output_type": "display_data"
    }
   ],
   "source": [
    "plot_transition(PTM, save=True)"
   ]
  },
  {
   "cell_type": "code",
   "execution_count": 609,
   "metadata": {
    "scrolled": true
   },
   "outputs": [
    {
     "data": {
      "text/plain": [
       "[0.00071175372726934314,\n",
       " 0.00025829710862246578,\n",
       " 0.0001367238315258108,\n",
       " 8.9563162132055824e-05,\n",
       " 6.4425167240453495e-05,\n",
       " 4.9197741482362147e-05,\n",
       " 3.8865958810152742e-05,\n",
       " 3.1531662058071438e-05,\n",
       " 2.6558436097844636e-05,\n",
       " 2.2770804943329575e-05,\n",
       " 0.00075184681550607947,\n",
       " 0.00042337763218921044,\n",
       " 0.00013678605108996398,\n",
       " 9.1312465755512834e-05,\n",
       " 6.4348150450428674e-05,\n",
       " 4.8660810894904987e-05,\n",
       " 3.8846841649483513e-05,\n",
       " 3.1614376345748178e-05,\n",
       " 2.6652519793694247e-05,\n",
       " 2.2862302398686043e-05,\n",
       " 0.00083813429809767072,\n",
       " 0.00036193739577874534,\n",
       " 0.00024302717801927821,\n",
       " 8.9317504879426256e-05,\n",
       " 6.3342335224560219e-05,\n",
       " 8.0156461959045015e-05,\n",
       " 3.8970866458396271e-05,\n",
       " 3.1917373470879961e-05,\n",
       " 2.6627049804472891e-05,\n",
       " 2.2736513428488002e-05,\n",
       " 0.0007935194291826443,\n",
       " 0.00040078758670296952,\n",
       " 0.00017635821661010704,\n",
       " 0.00011378831818371413,\n",
       " 9.5164547570202152e-05,\n",
       " 7.7367257415790079e-05,\n",
       " 6.9386699064277632e-05,\n",
       " 6.7892978185906319e-05,\n",
       " 2.6451792095889078e-05,\n",
       " 2.2588647980890161e-05,\n",
       " 0.00095602301018841854,\n",
       " 0.00041160197449447626,\n",
       " 0.00023613922743551211,\n",
       " 0.00012982094212152042,\n",
       " 8.0989485437874028e-05,\n",
       " 7.0930883729909496e-05,\n",
       " 5.4518646678508379e-05,\n",
       " 5.6430207063544669e-05,\n",
       " 2.6753872177622621e-05,\n",
       " 3.3571737843245508e-05,\n",
       " 0.00079492403778449127,\n",
       " 0.00025290340414568091,\n",
       " 0.00026641873789614754,\n",
       " 0.00012262868838819387,\n",
       " 9.3504412811852523e-05,\n",
       " 7.7855707833037984e-05,\n",
       " 4.835661403023691e-05,\n",
       " 5.7363571502486522e-05,\n",
       " 5.2775597691047048e-05,\n",
       " 3.7891551302021836e-05,\n",
       " 0.00090395128734497285,\n",
       " 0.00025312132508647448,\n",
       " 0.00020827418454766555,\n",
       " 0.00013525113964601971,\n",
       " 9.4418716425235776e-05,\n",
       " 8.1054962138670263e-05,\n",
       " 5.6115622781501683e-05,\n",
       " 4.1116465004132758e-05,\n",
       " 4.3667510720515697e-05,\n",
       " 3.2413261922943244e-05,\n",
       " 0.00077349924847103864,\n",
       " 0.00025713870230632103,\n",
       " 0.00017835245840934458,\n",
       " 9.5793702526537021e-05,\n",
       " 8.927888798699094e-05,\n",
       " 7.2197899519887274e-05,\n",
       " 3.8867647182427345e-05,\n",
       " 4.3212579883401218e-05,\n",
       " 3.1334533182397215e-05,\n",
       " 4.4029608593286845e-05,\n",
       " 0.00087816961654619424,\n",
       " 0.00033394100375090863,\n",
       " 0.0001558659992263924,\n",
       " 0.00012243485192993389,\n",
       " 8.5442755440774727e-05,\n",
       " 6.5237259256369708e-05,\n",
       " 5.9891810993051814e-05,\n",
       " 5.6732287302600464e-05,\n",
       " 4.4563458712245637e-05,\n",
       " 2.9243124984288386e-05,\n",
       " 0.0013437155034884359,\n",
       " 0.00028787785498517475,\n",
       " 0.00014019865173918754,\n",
       " 0.00011536683719657231,\n",
       " 0.0001068944868948409,\n",
       " 7.4895924152602338e-05,\n",
       " 5.4711867101462313e-05,\n",
       " 3.1800474762079978e-05,\n",
       " 3.7095955585812169e-05,\n",
       " 3.2578103350619009e-05]"
      ]
     },
     "execution_count": 609,
     "metadata": {},
     "output_type": "execute_result"
    }
   ],
   "source": [
    "lambdas"
   ]
  },
  {
   "cell_type": "code",
   "execution_count": 630,
   "metadata": {},
   "outputs": [
    {
     "data": {
      "text/plain": [
       "0.0001"
      ]
     },
     "execution_count": 630,
     "metadata": {},
     "output_type": "execute_result"
    }
   ],
   "source": [
    "0.020/(200)"
   ]
  },
  {
   "cell_type": "code",
   "execution_count": 346,
   "metadata": {
    "scrolled": true
   },
   "outputs": [
    {
     "data": {
      "text/plain": [
       "array([[   8.,   12.,   21.,   30.,   53.,   61.,  114.,   75.,  117.,\n",
       "         169.],\n",
       "       [  37.,   68.,  102.,  132.,  136.,  156.,  153.,  167.,  165.,\n",
       "         173.],\n",
       "       [  42.,   72.,  104.,  124.,  132.,  158.,  165.,  173.,  188.,\n",
       "         182.],\n",
       "       [  39.,   71.,  104.,  124.,  141.,  161.,  164.,  164.,  177.,\n",
       "         179.],\n",
       "       [  41.,   75.,  102.,  127.,  141.,  152.,  166.,  171.,  175.,\n",
       "         173.],\n",
       "       [  40.,   74.,  109.,  129.,  137.,  153.,  167.,  172.,  177.,\n",
       "         181.],\n",
       "       [  42.,   74.,  106.,  132.,  135.,  151.,  170.,  177.,  186.,\n",
       "         180.],\n",
       "       [  39.,   74.,  108.,  124.,  140.,  156.,  162.,  173.,  175.,\n",
       "         179.],\n",
       "       [  41.,   74.,  105.,  128.,  139.,  158.,  163.,  170.,  178.,\n",
       "         184.],\n",
       "       [  40.,   71.,  106.,  131.,  139.,  153.,  167.,  167.,  181.,\n",
       "         187.]])"
      ]
     },
     "execution_count": 346,
     "metadata": {},
     "output_type": "execute_result"
    }
   ],
   "source": [
    "x_store_pred"
   ]
  },
  {
   "cell_type": "code",
   "execution_count": 447,
   "metadata": {},
   "outputs": [],
   "source": [
    "p = 1000\n",
    "A = simul_data(n = p, p = p)"
   ]
  },
  {
   "cell_type": "code",
   "execution_count": 576,
   "metadata": {},
   "outputs": [
    {
     "name": "stdout",
     "output_type": "stream",
     "text": [
      "0.000243201830556\n"
     ]
    }
   ],
   "source": [
    "# s_step = n_tmp // size\n",
    "# s_tmp = (i+1) * s_step\n",
    "\n",
    "rho = 0.3\n",
    "delta = 0.1\n",
    "\n",
    "n_tmp = int(p*delta)\n",
    "s = int(rho*n_tmp)\n",
    "# ix = np.arange(n)\n",
    "#ix_tmp = np.random.choice(ix, n_tmp)\n",
    "\n",
    "x, y, e = genPhenotype(A=A[:n_tmp][:], s=s, h2=1.) \n",
    "\n",
    "# x_pred = lasso(A[ix_tmp, :], y, lambd = lambd)\n",
    "x_pred = iterativeLasso(A[:n_tmp][:], y, nb_lambd=100, normalize=True, verbose=False)"
   ]
  },
  {
   "cell_type": "code",
   "execution_count": 469,
   "metadata": {},
   "outputs": [
    {
     "data": {
      "text/plain": [
       "0.49342572032238585"
      ]
     },
     "execution_count": 469,
     "metadata": {},
     "output_type": "execute_result"
    }
   ],
   "source": [
    "np.linalg.norm(x-x_pred)/np.linalg.norm(x)"
   ]
  },
  {
   "cell_type": "code",
   "execution_count": null,
   "metadata": {},
   "outputs": [],
   "source": []
  }
 ],
 "metadata": {
  "kernelspec": {
   "display_name": "Python [conda env:hackathon]",
   "language": "python",
   "name": "conda-env-hackathon-py"
  },
  "language_info": {
   "codemirror_mode": {
    "name": "ipython",
    "version": 3
   },
   "file_extension": ".py",
   "mimetype": "text/x-python",
   "name": "python",
   "nbconvert_exporter": "python",
   "pygments_lexer": "ipython3",
   "version": "3.4.5"
  }
 },
 "nbformat": 4,
 "nbformat_minor": 2
}
