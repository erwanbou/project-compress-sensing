{
 "cells": [
  {
   "cell_type": "code",
   "execution_count": 1,
   "metadata": {},
   "outputs": [],
   "source": [
    "import numpy as np \n",
    "import matplotlib.pyplot as plt\n",
    "\n",
    "from sklearn import linear_model\n",
    "import statsmodels.formula.api as sm\n",
    "\n",
    "from tqdm import tqdm\n",
    "# for my supacool dark theme:\n",
    "plt.style.use('dark_background')"
   ]
  },
  {
   "cell_type": "markdown",
   "metadata": {},
   "source": [
    "## Real data"
   ]
  },
  {
   "cell_type": "code",
   "execution_count": 2,
   "metadata": {},
   "outputs": [
    {
     "data": {
      "text/plain": [
       "'A_raw = pd.readcsv(path2data + )\\nx_raw =prd.readcsv(path2data + )\\ny_raw =prd.readcsv(path2data + )'"
      ]
     },
     "execution_count": 2,
     "metadata": {},
     "output_type": "execute_result"
    }
   ],
   "source": [
    "path2data= ''\n",
    "'''A_raw = pd.readcsv(path2data + )\n",
    "x_raw =prd.readcsv(path2data + )\n",
    "y_raw =prd.readcsv(path2data + )'''"
   ]
  },
  {
   "cell_type": "markdown",
   "metadata": {},
   "source": [
    "## Simulated data"
   ]
  },
  {
   "cell_type": "code",
   "execution_count": 27,
   "metadata": {},
   "outputs": [],
   "source": [
    "# simul_data:\n",
    "# return a random sample of  coefficients with s \n",
    "## Input: n, p, eventually a MAF (Minor Allel Frequency) vector \n",
    "## output A, the genotype matrix\n",
    "def simul_data(n, p=500, maf=None, miss = 0., miss_value='average'):\n",
    "    '''\n",
    "    Simulate the matrix A\n",
    "    '''\n",
    "    A = []\n",
    "    if maf is None:\n",
    "        maf = np.random.uniform(low=0.1, high=0.5, size = (1, p))\n",
    "        \n",
    "    for _ in range(n):\n",
    "        A.append(np.random.binomial(2, maf)[0])\n",
    "    A = np.array(A)\n",
    "    st = A.std(axis=0)\n",
    "    m = A.mean(axis=0)\n",
    "    A = (A-m)/(st)\n",
    "    \n",
    "    return A\n",
    "# With MAF    \n",
    "# B = simul_data(1000, 10, maf=maf)"
   ]
  },
  {
   "cell_type": "code",
   "execution_count": 37,
   "metadata": {},
   "outputs": [],
   "source": [
    "'''# Simulate Phenotype y given a genotype matrix A\n",
    "Input:  A, genotype matrix (either real or simulated data)\n",
    "        s, sparsity of the x vector (number of non zeros coeffs)\n",
    "        h2, heritability (ratio of the phenotype explained by the genotype)\n",
    "        xtype, in ['uniform', 'hyperExp'(not coded yet)], type of coefficients simulated \n",
    "'''\n",
    "def genPhenotype(A, s, h2 = 1, xtype = 'uniform'):\n",
    "    \n",
    "    assert xtype in ['uniform', 'hyperExp'], 'Error, xtype should be \"uniform\" or \"hyperExps\"'\n",
    "    \n",
    "    n = A.shape[0]\n",
    "    p = A.shape[1]\n",
    "    x = np.random.uniform(-1,1,p)\n",
    "    \n",
    "    if xtype == 'hyperExp':\n",
    "        x = np.exp(-(np.arange(p) + 1) / (.05*s)) + np.exp(-(np.arange(p)+1)/p)\n",
    "    # set s coefficients to zeros\n",
    "    x_mask = np.random.choice(np.arange(p), p-s, replace= False)\n",
    "    x[x_mask] = 0\n",
    "    # heritability\n",
    "    x = np.sqrt(h2) * x / np.std(A.dot(x))\n",
    "    e = np.sqrt(1-h2) * np.random.normal(n)\n",
    "    y = A.dot(x) + e\n",
    "    return x, y\n",
    "\n",
    "#genPhenotype(At, st)"
   ]
  },
  {
   "cell_type": "code",
   "execution_count": null,
   "metadata": {},
   "outputs": [],
   "source": []
  },
  {
   "cell_type": "markdown",
   "metadata": {},
   "source": [
    "## Recovery algorithm: Linear regression with Lasso"
   ]
  },
  {
   "cell_type": "markdown",
   "metadata": {},
   "source": [
    "We solve the following minimisation problem using scikit-learn : \n",
    "$$min_x [\\Vert y -Ax \\Vert_{L_2}^2+\\lambda \\Vert x \\Vert_{L_1}]$$"
   ]
  },
  {
   "cell_type": "code",
   "execution_count": 38,
   "metadata": {},
   "outputs": [],
   "source": [
    "def lasso(A, y, lambd = 0.1, normalize = True):\n",
    "    \"\"\"return the coefficient of the lasso regression of A over y, lambd is the regulizer parameter\n",
    "    \"\"\"\n",
    "    reg = linear_model.Lasso(lambd*2*A.shape[0], normalize = normalize)\n",
    "    reg.fit(A, y)\n",
    "    return reg.coef_"
   ]
  },
  {
   "cell_type": "markdown",
   "metadata": {},
   "source": [
    "## Recovery measures:\n",
    "\n",
    "We implemented the different recovery measures developped in the paper:\n",
    "\n",
    "* **PPV**, Positive Predicted Value: the ratio between the number of True Positive and the number of selected Positive coefficients (i.e. the number of non-zero coefficients: $\\frac{\\#\\{x_i : x_i\\neq 0;\\hat x_i \\neq 0\\}}{\\#\\{\\hat x_i:\\hat x_i \\neq 0\\}}$\n",
    "\n",
    "* **FPR**, False Positive Rate: the ratio between the number of False Positive and the total number of Negative coefficients (i.e. the number of zero coefficients): $\\frac{\\#\\{x_i : x_i = 0;\\hat x_i \\neq 0\\}}{\\#\\{x_i:x_i = 0\\}}$ \n",
    "\n",
    "* **$med_{P-val}$**, the median of the P-values obtained when regressing the phenotypes on each selected SNP. For each of this regression, we compute the p-value associated to the t-test asserting if the coefficient of the regression is zero. We then take the median of these p-values. Note that, contrary to the other measures of recovery, this one could be computed in real experiments where we don't have access to the true coefficients x."
   ]
  },
  {
   "cell_type": "code",
   "execution_count": 39,
   "metadata": {},
   "outputs": [],
   "source": [
    "# positive predictive value\n",
    "def PPV(x, x_hat):\n",
    "    nb_tp = np.sum([1 for u,v in zip(x, x_hat) if (u != 0) and (v != 0)])\n",
    "    nb_pos = np.sum([1 for e in x_hat if e!=0])\n",
    "    assert nb_pos !=0, 'mError, x is null!'\n",
    "    return nb_tp/nb_pos\n",
    "\n",
    "def FPR(x, x_hat):\n",
    "    nb_fp = np.sum([1 for u,v in zip(x, x_hat) if (u==0) and (v!=0)])\n",
    "    nb_neg = np.sum([1 for e in x if e==0])\n",
    "    if nb_neg ==0:\n",
    "        print('FPR computation Warning, x is not sparse!')\n",
    "        return -1\n",
    "    return nb_fp/nb_neg\n",
    "\n",
    "def med_P(x_hat, y, A, verbose = False):\n",
    "    p_vals = []\n",
    "    for i in np.arange(len(y)):\n",
    "        if x_hat[i] != 0:\n",
    "            snp = A[:,i]\n",
    "            reg = sm.OLS(y, snp).fit()\n",
    "            p_vals.append(reg.t_test([1]).pvalue) \n",
    "    measure = np.median(np.array(p_vals))\n",
    "    if verbose:\n",
    "        print('{} selected non zero coefficients (over {} total number of SNPs)'.format(len(p_vals), len(x_hat)))\n",
    "    return measure"
   ]
  },
  {
   "cell_type": "markdown",
   "metadata": {},
   "source": [
    "## Phase-transition "
   ]
  },
  {
   "cell_type": "code",
   "execution_count": 40,
   "metadata": {},
   "outputs": [],
   "source": [
    "# for the simulated assays\n",
    "def phase_transition_mat(A, lambd = 0.1, h2 = 1, xtype = 'uniform', size = 20, recovery = False):\n",
    "    \"\"\"return return a size by size matrix with the NE score for the lasso reconstruction procedure \n",
    "    A : measurement matrix (genotype)\n",
    "    h2: heritability (control the )\n",
    "    size : the size of the phase transition matrix\n",
    "    \"\"\"\n",
    "    # number of samples\n",
    "    n = A.shape[0]\n",
    "    # number of SNPs\n",
    "    p = A.shape[1]\n",
    "    PTM = 2*np.ones((size, size))\n",
    "    ix = np.arange(n)\n",
    "    \n",
    "    if recovery:\n",
    "        PPV_mat = np.zeros((size, size))\n",
    "        FPR_mat = np.zeros((size, size))\n",
    "        medP_mat = np.zeros((size, size))\n",
    "    for j in tqdm(range(size)):\n",
    "        n_step = p // size\n",
    "        n_tmp = (j+1) * n_step\n",
    "        delta = n_tmp/p\n",
    "        # select eandomly a subset of individuals\n",
    "        ix_tmp = np.random.choice(ix, n_tmp)\n",
    "        for i in range(size):\n",
    "            s_step = n_tmp // size\n",
    "            s_tmp = (i+1) * s_step\n",
    "            rho = s_tmp/n_tmp\n",
    "            x, y = genPhenotype(A=A, s=s_tmp, h2=h2, xtype=xtype)                \n",
    "            x_pred = lasso(A[ix_tmp,], y[ix_tmp], lambd = lambd)\n",
    "            #print(delta*size, rho*size)\n",
    "            if np.linalg.norm(x-x_pred)/np.linalg.norm(x) <= 1:\n",
    "                #PTM[int(np.floor(rho*size-0.001)), int(np.floor(delta*size-0.001))] = np.linalg.norm(x-x_pred)/np.linalg.norm(x)\n",
    "                PTM[i, j] = np.linalg.norm(x-x_pred)/np.linalg.norm(x)\n",
    "            else:\n",
    "                # big errors (>1) are marked as higher than 1\n",
    "                PTM[i, j] = 1.5\n",
    "            #print(rho, delta)\n",
    "            if recovery:\n",
    "                PPV_mat[i, j] = PPV(x, x_pred)\n",
    "                FPR_mat[i, j] = FPR(x, x_pred)\n",
    "                medP_mat[i, j] = med_P(x_pred, y, A)\n",
    "                \n",
    "    return PTM"
   ]
  },
  {
   "cell_type": "code",
   "execution_count": 41,
   "metadata": {},
   "outputs": [],
   "source": [
    "# test purpose\n",
    "nt = 100\n",
    "pt = 500\n",
    "At = simul_data(n = nt, p = pt)"
   ]
  },
  {
   "cell_type": "code",
   "execution_count": 50,
   "metadata": {},
   "outputs": [
    {
     "name": "stderr",
     "output_type": "stream",
     "text": [
      "100%|██████████| 20/20 [00:02<00:00,  8.75it/s]\n"
     ]
    },
    {
     "data": {
      "text/plain": [
       "array([ 1.5       ,  0.98687672,  0.97030126,  0.92215392,  0.99524184,\n",
       "        0.98269203,  0.99651993,  0.99349514,  1.5       ,  0.99943235,\n",
       "        1.        ,  1.        ,  1.        ,  1.        ,  1.        ,\n",
       "        1.        ,  1.        ,  1.        ,  1.        ,  1.        ])"
      ]
     },
     "execution_count": 50,
     "metadata": {},
     "output_type": "execute_result"
    }
   ],
   "source": [
    "PTM = phase_transition_mat(At, lambd = 0.00005, h2 = 1, xtype = 'hyperExp', recovery= False)\n",
    "PTM[10]"
   ]
  },
  {
   "cell_type": "markdown",
   "metadata": {},
   "source": [
    "# Plot the matrix of transition"
   ]
  },
  {
   "cell_type": "code",
   "execution_count": 51,
   "metadata": {},
   "outputs": [],
   "source": [
    "def frontier(mat, thres):\n",
    "    \"\"\"construction of the phase transition frontier, i.e. first time the NE score is below the thres value\"\"\"\n",
    "    L = []\n",
    "    N = len(mat)\n",
    "    for s in range(int(N)):\n",
    "        P = 0\n",
    "        while mat[P,s]<thres and P<N-1:\n",
    "            P = P + 1\n",
    "        L.append(P)\n",
    "    return L"
   ]
  },
  {
   "cell_type": "code",
   "execution_count": 52,
   "metadata": {},
   "outputs": [],
   "source": [
    "def plot_transition(M, thres = 0.5, save = False):\n",
    "    size = M.shape[0]\n",
    "    #plt.figure(figsize=(8,8))\n",
    "    #rho_min, rho_max, delta_min, delta_max = 0, size, 0, size\n",
    "    fig = plt.imshow(M, interpolation=\"gaussian\",  \n",
    "                 aspect='auto', origin = 'lower', extent = [0, size, 0, size])\n",
    "    plt.xlabel(r'$\\delta = \\frac{n}{p}$')\n",
    "    plt.ylabel(r'$\\rho = \\frac{s}{n}$')\n",
    "\n",
    "    #empirical phase transition\n",
    "    X = range(size)\n",
    "    L = frontier(M, thres = thres)\n",
    "    plt.plot(X,L, linewidth=4, color = 'black', label='phase transition')\n",
    "    plt.legend(loc=4)\n",
    "    cax = plt.axes([1, 0.1, 0.075, 0.8])\n",
    "    plt.colorbar(cax=cax)\n",
    "    plt.show()\n",
    "    if save == True:\n",
    "        filename = 'transition_matrix.png'\n",
    "        plt.savefig(filename,bbox_inches='tight')"
   ]
  },
  {
   "cell_type": "code",
   "execution_count": 53,
   "metadata": {},
   "outputs": [
    {
     "data": {
      "image/png": "[encoded data removed]",
      "text/plain": [
       "<matplotlib.figure.Figure at 0x7feddd6fac50>"
      ]
     },
     "metadata": {},
     "output_type": "display_data"
    }
   ],
   "source": [
    "plot_transition(PTM)"
   ]
  },
  {
   "cell_type": "code",
   "execution_count": null,
   "metadata": {},
   "outputs": [],
   "source": []
  },
  {
   "cell_type": "code",
   "execution_count": null,
   "metadata": {},
   "outputs": [],
   "source": []
  }
 ],
 "metadata": {
  "kernelspec": {
   "display_name": "Python 3",
   "language": "python",
   "name": "python3"
  },
  "language_info": {
   "codemirror_mode": {
    "name": "ipython",
    "version": 3
   },
   "file_extension": ".py",
   "mimetype": "text/x-python",
   "name": "python",
   "nbconvert_exporter": "python",
   "pygments_lexer": "ipython3",
   "version": "3.5.2"
  }
 },
 "nbformat": 4,
 "nbformat_minor": 2
}
