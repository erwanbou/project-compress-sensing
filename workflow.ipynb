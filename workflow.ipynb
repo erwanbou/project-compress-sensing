{
 "cells": [
  {
   "cell_type": "code",
   "execution_count": 4,
   "metadata": {},
   "outputs": [],
   "source": [
    "import numpy as np \n",
    "import matplotlib.pyplot as plt\n",
    "\n",
    "from sklearn import linear_model\n",
    "import statsmodels.formula.api as sm\n",
    "\n",
    "from tqdm import tqdm\n",
    "\n",
    "import scipy.io as sio\n",
    "# for my supacool dark theme:\n",
    "plt.style.use('dark_background')"
   ]
  },
  {
   "cell_type": "markdown",
   "metadata": {},
   "source": [
    "## Real data"
   ]
  },
  {
   "cell_type": "code",
   "execution_count": 6,
   "metadata": {},
   "outputs": [
    {
     "data": {
      "text/plain": [
       "array([[ 0.01417329,  0.26962682,  0.27663048, ...,  0.36665057,\n",
       "         0.12281923,  0.13698795]])"
      ]
     },
     "execution_count": 6,
     "metadata": {},
     "output_type": "execute_result"
    }
   ],
   "source": [
    "path2data= ''\n",
    "'''A_raw = pd.readcsv(path2data + )\n",
    "x_raw =prd.readcsv(path2data + )\n",
    "y_raw =prd.readcsv(path2data + )'''\n",
    "\n",
    "maf = sio.loadmat('GD/chr22_maf.mat')['maf']\n",
    "maf"
   ]
  },
  {
   "cell_type": "code",
   "execution_count": 461,
   "metadata": {},
   "outputs": [
    {
     "data": {
      "text/plain": [
       "(1, 8915)"
      ]
     },
     "execution_count": 461,
     "metadata": {},
     "output_type": "execute_result"
    }
   ],
   "source": [
    "maf.shape"
   ]
  },
  {
   "cell_type": "markdown",
   "metadata": {},
   "source": [
    "## Simulated data"
   ]
  },
  {
   "cell_type": "code",
   "execution_count": 306,
   "metadata": {},
   "outputs": [],
   "source": [
    "# simul_data:\n",
    "# return a random sample of  coefficients with s \n",
    "## Input: n, p, eventually a MAF (Minor Allel Frequency) vector \n",
    "## output A, the genotype matrix\n",
    "def simul_data(n, p=500, maf=None, miss = 0., miss_value='average'):\n",
    "    '''\n",
    "    Simulate the matrix A\n",
    "    '''\n",
    "    A = []\n",
    "    if maf is None:\n",
    "        maf = np.random.uniform(low=0.1, high=0.5, size = (1, p))\n",
    "    else:\n",
    "        for idx, i in enumerate(maf[0]):\n",
    "            if i < 0.01:\n",
    "                maf[0][idx] = 0.01\n",
    "    for _ in range(n):\n",
    "        A.append(np.random.binomial(2, maf)[0])\n",
    "    A = np.array(A)\n",
    "    # st = A.std(axis=0)\n",
    "    # m = A.mean(axis=0)\n",
    "    # print(2*maf)\n",
    "    # print(1-maf)\n",
    "    A = (A-2*maf)/(2*maf*(1-maf))/np.sqrt(n)\n",
    "    \n",
    "    return A\n",
    "\n",
    "# With MAF    \n",
    "# B = simul_data(5000, p=10)"
   ]
  },
  {
   "cell_type": "code",
   "execution_count": 307,
   "metadata": {},
   "outputs": [],
   "source": [
    "# B.shape"
   ]
  },
  {
   "cell_type": "code",
   "execution_count": 708,
   "metadata": {},
   "outputs": [],
   "source": [
    "'''# Simulate Phenotype y given a genotype matrix A\n",
    "Input:  A, genotype matrix (either real or simulated data)\n",
    "        s, sparsity of the x vector (number of non zeros coeffs)\n",
    "        h2, heritability (ratio of the phenotype explained by the genotype)\n",
    "        xtype, in ['uniform', 'hyperExp'(not coded yet)], type of coefficients simulated \n",
    "'''\n",
    "def genPhenotype(A, s, h2 = 1., xtype = 'uniform'):\n",
    "    \n",
    "    assert xtype in ['uniform', 'hyperExp'], 'Error, xtype should be \"uniform\" or \"hyperExps\"'\n",
    "    \n",
    "    n = A.shape[0]\n",
    "    p = A.shape[1]\n",
    "    x = np.random.uniform(-1,1,p)\n",
    "    \n",
    "    if xtype == 'hyperExp':\n",
    "        x = np.exp(-(np.arange(p) + 1) / (.05*s)) + np.exp(-(np.arange(p)+1)/p)\n",
    "    # set s coefficients to zeros\n",
    "    x_mask = np.random.choice(np.arange(p), p-s, replace= False)\n",
    "    x[x_mask] = 0\n",
    "    # heritability\n",
    "    if h2<1.:\n",
    "        x = np.sqrt(h2) * x / np.std(A.dot(x))\n",
    "        e = np.sqrt(1.-h2) * np.random.normal(size = n)\n",
    "        y = A.dot(x) + e\n",
    "        return x, y, e\n",
    "    else:\n",
    "        x = x/np.std(A.dot(x))\n",
    "        return x, A.dot(x), 0\n",
    "#genPhenotype(At, st)"
   ]
  },
  {
   "cell_type": "code",
   "execution_count": 709,
   "metadata": {},
   "outputs": [],
   "source": [
    "At = simul_data(100, 10, maf=maf)\n",
    "x, y, e = genPhenotype(A, 10, h2=0.5)"
   ]
  },
  {
   "cell_type": "code",
   "execution_count": 711,
   "metadata": {},
   "outputs": [
    {
     "data": {
      "text/plain": [
       "array([-0.02658877,  1.27795044,  1.8933873 , -1.40056516,  0.4688021 ,\n",
       "        0.03454726,  0.73870582, -0.08314058, -0.69356588, -0.89737809])"
      ]
     },
     "execution_count": 711,
     "metadata": {},
     "output_type": "execute_result"
    }
   ],
   "source": [
    "np.random.normal(size = 10)"
   ]
  },
  {
   "cell_type": "markdown",
   "metadata": {},
   "source": [
    "## Recovery algorithm: Linear regression with Lasso"
   ]
  },
  {
   "cell_type": "markdown",
   "metadata": {},
   "source": [
    "We solve the following minimisation problem using scikit-learn : \n",
    "$$min_x [\\Vert y -Ax \\Vert_{L_2}^2+\\lambda \\Vert x \\Vert_{L_1}]$$"
   ]
  },
  {
   "cell_type": "code",
   "execution_count": 712,
   "metadata": {},
   "outputs": [],
   "source": [
    "def lasso(A, y, lambd = 0.1, normalize = True):\n",
    "    \"\"\"return the coefficient of the lasso regression of A over y, lambd is the regulizer parameter\n",
    "    \"\"\"\n",
    "    reg = linear_model.Lasso(lambd/(2*A.shape[0]), normalize = normalize)\n",
    "    reg.fit(A, y)\n",
    "    return reg.coef_"
   ]
  },
  {
   "cell_type": "code",
   "execution_count": 713,
   "metadata": {},
   "outputs": [],
   "source": [
    "def iterativeLasso(A, y, nb_lambd=100, normalize=True, verbose=False):\n",
    "    \"\"\"implement the iterative lasso with the same regularization path as in the paper\"\"\"\n",
    "    n = A.shape[0]\n",
    "    lambd_max = np.linalg.norm(y.dot(A), ord = np.inf)/n\n",
    "    e = np.random.normal(size=(1000, n))\n",
    "    Ae_inf = [np.linalg.norm(v, ord = np.inf) for v in e.dot(A)]\n",
    "    var_e_corrected = np.sqrt(1 + 1/n)\n",
    "    lambd_min = np.median(Ae_inf) * var_e_corrected/n\n",
    "    alphas = np.linspace(lambd_min, lambd_max, nb_lambd)/(n)\n",
    "    reg = linear_model.LassoCV(alphas=alphas, normalize=normalize)\n",
    "    reg.fit(A, y)\n",
    "    return reg.coef_, reg.alpha_"
   ]
  },
  {
   "cell_type": "markdown",
   "metadata": {},
   "source": [
    "## Recovery measures:\n",
    "\n",
    "We implemented the different recovery measures developped in the paper:\n",
    "\n",
    "* **PPV**, Positive Predicted Value: the ratio between the number of True Positive and the number of selected Positive coefficients (i.e. the number of non-zero coefficients: $\\frac{\\#\\{x_i : x_i\\neq 0;\\hat x_i \\neq 0\\}}{\\#\\{\\hat x_i:\\hat x_i \\neq 0\\}}$\n",
    "\n",
    "* **FPR**, False Positive Rate: the ratio between the number of False Positive and the total number of Negative coefficients (i.e. the number of zero coefficients): $\\frac{\\#\\{x_i : x_i = 0;\\hat x_i \\neq 0\\}}{\\#\\{x_i:x_i = 0\\}}$ \n",
    "\n",
    "* **$med_{P-val}$**, the median of the P-values obtained when regressing the phenotypes on each selected SNP. For each of this regression, we compute the p-value associated to the t-test asserting if the coefficient of the regression is zero. We then take the median of these p-values. Note that, contrary to the other measures of recovery, this one could be computed in real experiments where we don't have access to the true coefficients x."
   ]
  },
  {
   "cell_type": "code",
   "execution_count": 714,
   "metadata": {},
   "outputs": [],
   "source": [
    "# positive predictive value\n",
    "def PPV(x, x_hat):\n",
    "    nb_tp = np.sum([1 for u,v in zip(x, x_hat) if (u != 0) and (v != 0)])\n",
    "    nb_pos = np.sum([1 for e in x_hat if e!=0])\n",
    "    assert nb_pos !=0, 'mError, x is null!'\n",
    "    return nb_tp/nb_pos\n",
    "\n",
    "def FPR(x, x_hat):\n",
    "    nb_fp = np.sum([1 for u,v in zip(x, x_hat) if (u==0) and (v!=0)])\n",
    "    nb_neg = np.sum([1 for e in x if e==0])\n",
    "    if nb_neg ==0:\n",
    "        print('FPR computation Warning, x is not sparse!')\n",
    "        return -1\n",
    "    return nb_fp/nb_neg\n",
    "\n",
    "def med_P(x_hat, y, A, verbose = False):\n",
    "    p_vals = []\n",
    "    for i in np.arange(len(y)):\n",
    "        if x_hat[i] != 0:\n",
    "            snp = A[:,i]\n",
    "            reg = sm.OLS(y, snp).fit()\n",
    "            p_vals.append(reg.t_test([1]).pvalue) \n",
    "    measure = np.median(np.array(p_vals))\n",
    "    if verbose:\n",
    "        print('{} selected non zero coefficients (over {} total number of SNPs)'.format(len(p_vals), len(x_hat)))\n",
    "    return measure"
   ]
  },
  {
   "cell_type": "markdown",
   "metadata": {},
   "source": [
    "## Phase-transition "
   ]
  },
  {
   "cell_type": "code",
   "execution_count": 733,
   "metadata": {},
   "outputs": [],
   "source": [
    "# for the simulated assays\n",
    "def phase_transition_mat(A, lambd = 0.1, h2 = 1., xtype = 'uniform', size = 20, recovery = False):\n",
    "    \"\"\"return return a size by size matrix with the NE score for the lasso reconstruction procedure \n",
    "    A : measurement matrix (genotype)\n",
    "    h2: heritability (control the )\n",
    "    size : the size of the phase transition matrix\n",
    "    \"\"\"\n",
    "    # number of samples\n",
    "    n = A.shape[0]\n",
    "    # number of SNPs\n",
    "    p = A.shape[1]\n",
    "    # In order to test all values for delta, we need to have enough data\n",
    "    assert n==p, \"ERROR, n must be equal to p\"\n",
    "    \n",
    "    PTM = np.zeros((size, size))\n",
    "    ix = np.arange(n)\n",
    "    \n",
    "    if recovery:\n",
    "        PPV_mat = np.zeros((size, size))\n",
    "        FPR_mat = np.zeros((size, size))\n",
    "        medP_mat = np.zeros((size, size))\n",
    "    for i in tqdm(range(size)):\n",
    "\n",
    "        for j in range(size):\n",
    "            rho = (i+1)/size\n",
    "            delta = (j+1)/size\n",
    "            \n",
    "            n_tmp = int(p*delta)\n",
    "            s = int(rho*n_tmp)\n",
    "\n",
    "            ix_tmp = np.random.choice(ix, n_tmp, replace=False)\n",
    "            A_tmp = A[ix_tmp][:]\n",
    "            x, y, e = genPhenotype(A=A_tmp, s=s, h2=h2)\n",
    "            \n",
    "            # Choose if you want to prefer either a cross validation to select lambdas\n",
    "            # or a standart lasso with a given lambda (faster)\n",
    "            x_pred = lasso(A_tmp, y, lambd = lambd)\n",
    "            # x_pred, la = iterativeLasso(A_tmp, y, nb_lambd=100, normalize=True, verbose=False)\n",
    "            # lambdas.append(la)\n",
    "            norm = np.linalg.norm(x-x_pred)/np.linalg.norm(x)\n",
    "            # big errors (>1) are marked as 1.\n",
    "            PTM[i, j] = min([norm, 1.])\n",
    "            \n",
    "            if recovery:\n",
    "                PPV_mat[i, j] = PPV(x, x_pred)\n",
    "                FPR_mat[i, j] = FPR(x, x_pred)\n",
    "                medP_mat[i, j] = med_P(x_pred, y, A)\n",
    "                \n",
    "                \n",
    "    return PTM"
   ]
  },
  {
   "cell_type": "code",
   "execution_count": null,
   "metadata": {},
   "outputs": [],
   "source": []
  },
  {
   "cell_type": "code",
   "execution_count": 734,
   "metadata": {},
   "outputs": [],
   "source": [
    "def warn(*args, **kwargs):\n",
    "    pass\n",
    "import warnings\n",
    "warnings.warn = warn\n"
   ]
  },
  {
   "cell_type": "code",
   "execution_count": 735,
   "metadata": {
    "scrolled": true
   },
   "outputs": [
    {
     "name": "stderr",
     "output_type": "stream",
     "text": [
      "100%|██████████| 20/20 [01:25<00:00,  4.27s/it]\n"
     ]
    }
   ],
   "source": [
    "nt = 800\n",
    "pt = 800\n",
    "At = simul_data(n = nt, p = pt)\n",
    "\n",
    "PTM = phase_transition_mat(At, lambd = 0.02, h2 = 0.99, xtype = 'hyperExp', size=20, recovery= False)\n",
    "# PTM[10]"
   ]
  },
  {
   "cell_type": "markdown",
   "metadata": {},
   "source": [
    "# Plot the matrix of transition"
   ]
  },
  {
   "cell_type": "code",
   "execution_count": 736,
   "metadata": {},
   "outputs": [],
   "source": [
    "def frontier(mat, thres, size):\n",
    "    \"\"\"construction of the phase transition frontier, i.e. first time the NE score is below the thres value\"\"\"\n",
    "    L = []\n",
    "    N = len(mat)\n",
    "    for s in range(int(N)):\n",
    "        P = 0\n",
    "        while mat[P,s]<thres and P<N-1:\n",
    "            P = P + 1\n",
    "        L.append(P/size)\n",
    "    return L"
   ]
  },
  {
   "cell_type": "code",
   "execution_count": 795,
   "metadata": {},
   "outputs": [],
   "source": [
    "def plot_transition(M, thres = 0.5, save = False):\n",
    "    size = M.shape[0]\n",
    "    #plt.figure(figsize=(8,8))\n",
    "    #rho_min, rho_max, delta_min, delta_max = 0, size, 0, size\n",
    "    fig = plt.imshow(M, interpolation=\"gaussian\",  \n",
    "                 aspect='auto', origin = 'lower', extent = [0., 1., 0., 1.], clim=(0.0, 1.))\n",
    "    plt.xlabel(r'$\\delta = \\frac{n}{p}$')\n",
    "    plt.ylabel(r'$\\rho = \\frac{s}{n}$')\n",
    "\n",
    "    #empirical phase transition\n",
    "    X = np.arange(0., 1., 1./size)\n",
    "    L = frontier(M, thres = thres, size=size)\n",
    "    plt.plot(X,L, linewidth=4, color = 'black', label='phase transition')\n",
    "    plt.legend(loc=4)\n",
    "    cax = plt.axes([1, 0.1, 0.075, 0.8])\n",
    "    cbar = plt.colorbar(cax=cax)\n",
    "    \n",
    "    \n",
    "    if save == True:\n",
    "        filename = 'transition_matrix.png'\n",
    "        plt.savefig(filename,bbox_inches='tight')\n",
    "    plt.show()"
   ]
  },
  {
   "cell_type": "code",
   "execution_count": 796,
   "metadata": {
    "scrolled": true
   },
   "outputs": [
    {
     "data": {
      "image/png": "[encoded data removed]",
      "text/plain": [
       "<matplotlib.figure.Figure at 0x114ed82e8>"
      ]
     },
     "metadata": {},
     "output_type": "display_data"
    }
   ],
   "source": [
    "plot_transition(PTM, save=True)"
   ]
  },
  {
   "cell_type": "code",
   "execution_count": 726,
   "metadata": {
    "scrolled": true
   },
   "outputs": [
    {
     "data": {
      "text/plain": [
       "[28.684906619259483,\n",
       " 57.399383432376304,\n",
       " 85.421060241901003,\n",
       " 113.84993586827538,\n",
       " 141.33950936086384,\n",
       " 169.34160860370102,\n",
       " 197.92876241146359,\n",
       " 226.59478801400121,\n",
       " 254.65401768539732,\n",
       " 284.21933916805142,\n",
       " 310.54101742378134,\n",
       " 339.18271619419295,\n",
       " 367.09245547561449,\n",
       " 397.04673005553559,\n",
       " 423.63924496727736,\n",
       " 452.82979977783191,\n",
       " 480.94805118082428,\n",
       " 510.07378640458415,\n",
       " 537.30541397730826,\n",
       " 565.04210600915394,\n",
       " 27.953157129917489,\n",
       " 57.585786020346539,\n",
       " 85.397041926687677,\n",
       " 111.75534614010947,\n",
       " 141.28549157019171,\n",
       " 168.91571527090414,\n",
       " 198.01047351122278,\n",
       " 227.20757748531858,\n",
       " 254.56843612124885,\n",
       " 282.66600092065391,\n",
       " 311.58741152256806,\n",
       " 339.18328970095092,\n",
       " 366.70893669438419,\n",
       " 395.12543970584937,\n",
       " 424.4862916072255,\n",
       " 453.4572688355251,\n",
       " 479.8377395226604,\n",
       " 508.21015836249342,\n",
       " 537.35399963277973,\n",
       " 564.60933079114852,\n",
       " 28.71190637516807,\n",
       " 56.557830179135067,\n",
       " 85.146424278341755,\n",
       " 114.06972188622633,\n",
       " 141.23876953917264,\n",
       " 168.22906933669097,\n",
       " 197.52204270302727,\n",
       " 226.45965069857064,\n",
       " 256.00702932319712,\n",
       " 281.81792242256932,\n",
       " 310.73718478504424,\n",
       " 338.88213705418241,\n",
       " 367.3816472149382,\n",
       " 396.22246319136872,\n",
       " 423.32158054012831,\n",
       " 452.48394700568065,\n",
       " 480.99112279396337,\n",
       " 508.23068160007227,\n",
       " 537.020130073367,\n",
       " 565.95584947789098,\n",
       " 26.363254780009832,\n",
       " 57.036374136432784,\n",
       " 85.649146995827948,\n",
       " 113.14127670835839,\n",
       " 140.66769789767019,\n",
       " 168.23761336226369,\n",
       " 197.50536572178871,\n",
       " 224.86422825525329,\n",
       " 255.98117094235016,\n",
       " 283.02527432559566,\n",
       " 310.31088245379976,\n",
       " 338.81229843429628,\n",
       " 367.87474321593544,\n",
       " 396.14616831561352,\n",
       " 424.24134258293071,\n",
       " 451.62146716461285,\n",
       " 480.53243364179019,\n",
       " 510.37854349644664,\n",
       " 537.43955864774716,\n",
       " 566.35011859601366,\n",
       " 27.808076154228765,\n",
       " 56.71886817306126,\n",
       " 84.226515532250247,\n",
       " 112.4359411904767,\n",
       " 140.67710837816026,\n",
       " 168.74924976853245,\n",
       " 198.12413340210938,\n",
       " 226.10248174689011,\n",
       " 254.07390053593366,\n",
       " 282.78179677638542,\n",
       " 311.53369519136407,\n",
       " 339.94808717703097,\n",
       " 368.14725025942664,\n",
       " 396.36184809635932,\n",
       " 423.28507345842439,\n",
       " 452.176426226817,\n",
       " 480.33461429919868,\n",
       " 508.62911275169432,\n",
       " 536.14751165415316,\n",
       " 565.51514902401436,\n",
       " 27.323826611171686,\n",
       " 57.90949146303042,\n",
       " 84.024043125264271,\n",
       " 113.21523205204764,\n",
       " 142.17830910249876,\n",
       " 170.34453631707046,\n",
       " 198.63913543778204,\n",
       " 225.94319635341967,\n",
       " 254.26707892238883,\n",
       " 281.53833056398156,\n",
       " 310.17456385616504,\n",
       " 339.3360970679845,\n",
       " 367.51659471918634,\n",
       " 394.96236638626931,\n",
       " 425.32114587803022,\n",
       " 451.45776058345382,\n",
       " 481.25006892642671,\n",
       " 510.54441091578752,\n",
       " 536.60720497150851,\n",
       " 566.88046647162173,\n",
       " 27.367888468113517,\n",
       " 56.726042939572267,\n",
       " 85.129811111573304,\n",
       " 114.04221698014391,\n",
       " 140.83948569148691,\n",
       " 170.52671027445578,\n",
       " 198.94771307120709,\n",
       " 226.36632712160795,\n",
       " 255.13638131687827,\n",
       " 283.07863680866058,\n",
       " 311.36908357735018,\n",
       " 339.80989166343244,\n",
       " 368.07876248969274,\n",
       " 395.68746625912706,\n",
       " 425.15621900560245,\n",
       " 451.97877943403222,\n",
       " 481.75266086108707,\n",
       " 508.94648309279523,\n",
       " 536.38365065326741,\n",
       " 565.61152464314273,\n",
       " 27.673035581095043,\n",
       " 55.944592706741659,\n",
       " 84.264694958240298,\n",
       " 112.90504887774418,\n",
       " 141.85422529693633,\n",
       " 170.88359022721247,\n",
       " 197.09439824941808,\n",
       " 225.89328267541697,\n",
       " 255.07246979776642,\n",
       " 281.54884758747482,\n",
       " 311.02282751339357,\n",
       " 339.09063017605706,\n",
       " 367.44563331024466,\n",
       " 396.42240898035124,\n",
       " 424.18707352734106,\n",
       " 453.21646401370811,\n",
       " 480.58391887754118,\n",
       " 508.63984057390286,\n",
       " 536.72346971256422,\n",
       " 564.72868365499664,\n",
       " 28.930875784328091,\n",
       " 55.737966491935879,\n",
       " 85.41232831216,\n",
       " 113.82157781444614,\n",
       " 140.87783189791679,\n",
       " 169.2276262466624,\n",
       " 198.45431991270252,\n",
       " 225.8264952751114,\n",
       " 256.20842757988072,\n",
       " 283.40717778669307,\n",
       " 312.13981117418331,\n",
       " 339.21432056309527,\n",
       " 367.82849422208454,\n",
       " 395.39769555877501,\n",
       " 423.98900809265723,\n",
       " 451.58761033948861,\n",
       " 480.78867837902914,\n",
       " 510.14499805353393,\n",
       " 537.7526082256876,\n",
       " 565.00913744151228,\n",
       " 28.038231214147519,\n",
       " 55.885504975180183,\n",
       " 85.452097358985895,\n",
       " 113.12068927759996,\n",
       " 141.90728384341318,\n",
       " 169.09140472493056,\n",
       " 198.3161843764172,\n",
       " 226.08064315731983,\n",
       " 253.19745438628516,\n",
       " 282.18750869872565,\n",
       " 312.53664487693004,\n",
       " 340.70183723759288,\n",
       " 366.37506049902271,\n",
       " 395.29600334932144,\n",
       " 424.02186334869759,\n",
       " 452.07757790909994,\n",
       " 480.98220359901774,\n",
       " 510.14186857367594,\n",
       " 538.03079306575842,\n",
       " 564.89373672197769,\n",
       " 28.382059081214472,\n",
       " 55.960013624718876,\n",
       " 84.722555460503926,\n",
       " 113.06039085026283,\n",
       " 141.58611864031656,\n",
       " 169.52212815980511,\n",
       " 197.53120011285031,\n",
       " 226.44254883080248,\n",
       " 255.00607456807245,\n",
       " 283.49003581393708,\n",
       " 310.69974413964519,\n",
       " 339.10602761896627,\n",
       " 367.99517659133971,\n",
       " 395.41345526092783,\n",
       " 423.86284100950365,\n",
       " 453.48027190754419,\n",
       " 480.58854144791712,\n",
       " 509.0514189703685,\n",
       " 538.05640705849351,\n",
       " 564.12274072304399,\n",
       " 27.228579710202382,\n",
       " 56.70792387229028,\n",
       " 85.075146532138248,\n",
       " 113.84701557317254,\n",
       " 141.41060309695672,\n",
       " 169.57848675212094,\n",
       " 198.40317340848895,\n",
       " 227.52624307508208,\n",
       " 254.74657626863515,\n",
       " 282.4911482650212,\n",
       " 311.03664151639026,\n",
       " 339.31619997378215,\n",
       " 368.14138571881449,\n",
       " 395.13970179006958,\n",
       " 423.12079435730868,\n",
       " 453.17469023837941,\n",
       " 479.83701037958917,\n",
       " 507.92146635772821,\n",
       " 538.17442935475367,\n",
       " 565.21236441067663,\n",
       " 28.650045778817617,\n",
       " 56.291972789197182,\n",
       " 85.298318872624321,\n",
       " 112.96765149181982,\n",
       " 140.11970654517617,\n",
       " 170.37368469489843,\n",
       " 199.47036824053131,\n",
       " 225.64673713529567,\n",
       " 253.85181923967292,\n",
       " 282.45266095563045,\n",
       " 311.16272435351215,\n",
       " 340.31557653282579,\n",
       " 367.61523029693626,\n",
       " 396.45873144984336,\n",
       " 423.16352834957036,\n",
       " 453.38240977345544,\n",
       " 481.14365915657663,\n",
       " 508.98549866840108,\n",
       " 537.19065653118719,\n",
       " 566.0427178173145,\n",
       " 28.216672966696088,\n",
       " 58.013097221955555,\n",
       " 84.849581166505615,\n",
       " 113.97819789076587,\n",
       " 141.09614435667669,\n",
       " 169.31809257741449,\n",
       " 197.83574454905877,\n",
       " 226.42507488212112,\n",
       " 255.50219056403498,\n",
       " 282.23766647054919,\n",
       " 311.51582709547478,\n",
       " 340.00057300471315,\n",
       " 367.53637827212913,\n",
       " 395.45259449350669,\n",
       " 425.06186326105893,\n",
       " 452.32966948305784,\n",
       " 479.40320359959628,\n",
       " 509.24078332107683,\n",
       " 537.03934020558881,\n",
       " 564.88328887603279,\n",
       " 28.771103839782455,\n",
       " 56.375186482635868,\n",
       " 86.131433767931071,\n",
       " 113.59841133565111,\n",
       " 142.25806643868,\n",
       " 169.78811150277571,\n",
       " 198.06116559480253,\n",
       " 226.35318761549348,\n",
       " 255.08224168435663,\n",
       " 282.7456098220473,\n",
       " 311.21149528255864,\n",
       " 338.88173881164801,\n",
       " 367.37992604468803,\n",
       " 395.47318561727241,\n",
       " 424.47431210009262,\n",
       " 453.21290696065392,\n",
       " 480.53588885297756,\n",
       " 509.48916773363987,\n",
       " 536.90918149610309,\n",
       " 565.42873932678697,\n",
       " 26.938956950716115,\n",
       " 57.244572953794901,\n",
       " 85.669162537227592,\n",
       " 112.6240475290849,\n",
       " 140.90886012384922,\n",
       " 169.13614567155642,\n",
       " 197.30532732888182,\n",
       " 225.18447912970191,\n",
       " 254.03821473640625,\n",
       " 282.1348334129753,\n",
       " 310.32409185470772,\n",
       " 339.4587252608282,\n",
       " 367.00512400576844,\n",
       " 395.81807579701842,\n",
       " 424.72676051160653,\n",
       " 451.84953359643663,\n",
       " 480.60677245974023,\n",
       " 508.88476716369041,\n",
       " 536.75171601235616,\n",
       " 566.87717151779577,\n",
       " 28.504180395817652,\n",
       " 56.678971595815291,\n",
       " 84.380777850274001,\n",
       " 113.96950165420617,\n",
       " 142.21250651516729,\n",
       " 169.60194469132253,\n",
       " 197.79541604723747,\n",
       " 226.45259808594381,\n",
       " 255.58027993548666,\n",
       " 282.26591848282629,\n",
       " 311.29005005566052,\n",
       " 338.84491044317832,\n",
       " 368.20905193239315,\n",
       " 395.77962801274629,\n",
       " 425.03067935410235,\n",
       " 452.92775342733603,\n",
       " 480.06144254836244,\n",
       " 509.36273268548206,\n",
       " 537.41042915200967,\n",
       " 565.12999249931079,\n",
       " 28.226684363576464,\n",
       " 56.797162575130585,\n",
       " 84.46612389295548,\n",
       " 113.04783626527947,\n",
       " 141.56636481186766,\n",
       " 169.19944267915412,\n",
       " 197.78190017038597,\n",
       " 225.92334245620825,\n",
       " 255.08999190908574,\n",
       " 282.71170363155238,\n",
       " 310.70007244283391,\n",
       " 339.07113793701353,\n",
       " 367.44286158388229,\n",
       " 395.58039098050324,\n",
       " 423.69655993051356,\n",
       " 452.38572683754126,\n",
       " 481.59891601148524,\n",
       " 510.9554571461465,\n",
       " 537.36389263306751,\n",
       " 566.82016735920035,\n",
       " 27.972093003033926,\n",
       " 55.716436286917876,\n",
       " 84.085263973589434,\n",
       " 113.45115717381967,\n",
       " 142.70989367486141,\n",
       " 170.1160181414831,\n",
       " 199.81472078825496,\n",
       " 224.28894011648021,\n",
       " 254.59374442892238,\n",
       " 282.31542690119505,\n",
       " 310.30446808076971,\n",
       " 339.48411119436923,\n",
       " 367.49178091091039,\n",
       " 395.28076785909599,\n",
       " 425.40545678647925,\n",
       " 452.30124842474726,\n",
       " 480.97328248643487,\n",
       " 508.92918916307246,\n",
       " 536.74095151746974,\n",
       " 567.50998088291556,\n",
       " 29.372466487002963,\n",
       " 56.325401630275586,\n",
       " 84.832031171515197,\n",
       " 112.95340828821267,\n",
       " 141.26020226691762,\n",
       " 170.36990430547738,\n",
       " 197.93258326617863,\n",
       " 225.86394193324341,\n",
       " 254.94026639670034,\n",
       " 283.73134872543096,\n",
       " 312.54021324285611,\n",
       " 338.95596805765689,\n",
       " 367.88852861937085,\n",
       " 397.18820286583593,\n",
       " 423.80237399346765,\n",
       " 452.42482503146778,\n",
       " 481.2297037861951,\n",
       " 507.6247206119852,\n",
       " 535.76552662388713,\n",
       " 565.51566357723004]"
      ]
     },
     "execution_count": 726,
     "metadata": {},
     "output_type": "execute_result"
    }
   ],
   "source": [
    "lambdas"
   ]
  },
  {
   "cell_type": "code",
   "execution_count": 727,
   "metadata": {},
   "outputs": [
    {
     "data": {
      "text/plain": [
       "0.0001"
      ]
     },
     "execution_count": 727,
     "metadata": {},
     "output_type": "execute_result"
    }
   ],
   "source": [
    "0.020/(200)"
   ]
  },
  {
   "cell_type": "code",
   "execution_count": 728,
   "metadata": {
    "scrolled": true
   },
   "outputs": [
    {
     "data": {
      "text/plain": [
       "array([[   2.,    5.,    7.,   10.,   12.,   15.,   17.,   20.,   22.,\n",
       "          25.,   27.,   30.,   32.,   35.,   37.,   40.,   42.,   45.,\n",
       "          47.,   50.],\n",
       "       [  11.,   11.,   19.,   24.,   29.,   32.,   38.,   48.,   51.,\n",
       "          51.,   56.,   64.,   68.,   70.,   77.,   81.,   86.,   93.,\n",
       "          99.,  100.],\n",
       "       [  21.,   36.,   35.,   45.,   51.,   65.,   71.,   72.,   96.,\n",
       "          90.,   97.,  120.,  111.,  115.,  123.,  130.,  142.,  148.,\n",
       "         154.,  162.],\n",
       "       [  51.,   99.,   87.,  111.,  117.,  101.,  137.,  110.,  136.,\n",
       "         154.,  157.,  154.,  154.,  174.,  198.,  201.,  209.,  214.,\n",
       "         219.,  231.],\n",
       "       [  53.,   82.,  116.,  132.,  147.,  150.,  188.,  214.,  200.,\n",
       "         236.,  213.,  244.,  246.,  261.,  261.,  267.,  269.,  301.,\n",
       "         302.,  319.],\n",
       "       [  46.,   95.,  146.,  187.,  240.,  215.,  325.,  271.,  250.,\n",
       "         293.,  308.,  282.,  329.,  311.,  326.,  325.,  366.,  389.,\n",
       "         370.,  395.],\n",
       "       [  53.,  101.,  159.,  201.,  253.,  299.,  336.,  375.,  410.,\n",
       "         362.,  340.,  375.,  379.,  420.,  417.,  424.,  470.,  456.,\n",
       "         450.,  462.],\n",
       "       [  49.,   98.,  155.,  203.,  254.,  297.,  337.,  385.,  423.,\n",
       "         445.,  467.,  472.,  451.,  476.,  498.,  463.,  468.,  527.,\n",
       "         545.,  532.],\n",
       "       [  47.,  100.,  153.,  215.,  259.,  292.,  351.,  380.,  422.,\n",
       "         475.,  522.,  566.,  513.,  555.,  564.,  561.,  571.,  613.,\n",
       "         579.,  621.],\n",
       "       [  47.,  103.,  159.,  203.,  253.,  307.,  354.,  397.,  451.,\n",
       "         492.,  537.,  569.,  607.,  572.,  601.,  622.,  632.,  664.,\n",
       "         656.,  674.],\n",
       "       [  48.,   96.,  159.,  205.,  266.,  306.,  362.,  397.,  456.,\n",
       "         500.,  533.,  584.,  603.,  617.,  641.,  699.,  702.,  718.,\n",
       "         749.,  732.],\n",
       "       [  53.,   96.,  150.,  208.,  255.,  316.,  343.,  403.,  449.,\n",
       "         503.,  562.,  593.,  624.,  653.,  695.,  683.,  723.,  727.,\n",
       "         759.,  805.],\n",
       "       [  51.,  101.,  157.,  200.,  245.,  311.,  370.,  397.,  456.,\n",
       "         498.,  557.,  582.,  632.,  677.,  715.,  748.,  769.,  767.,\n",
       "         784.,  805.],\n",
       "       [  54.,  105.,  155.,  206.,  253.,  310.,  361.,  399.,  460.,\n",
       "         500.,  545.,  604.,  636.,  670.,  718.,  768.,  771.,  812.,\n",
       "         837.,  837.],\n",
       "       [  49.,  103.,  157.,  207.,  276.,  307.,  362.,  392.,  460.,\n",
       "         490.,  552.,  585.,  649.,  685.,  736.,  765.,  809.,  817.,\n",
       "         849.,  884.],\n",
       "       [  55.,  107.,  149.,  202.,  252.,  291.,  360.,  399.,  458.,\n",
       "         499.,  567.,  595.,  625.,  697.,  727.,  774.,  803.,  852.,\n",
       "         871.,  889.],\n",
       "       [  51.,  102.,  152.,  207.,  267.,  316.,  366.,  405.,  450.,\n",
       "         502.,  549.,  603.,  642.,  684.,  735.,  769.,  820.,  852.,\n",
       "         877.,  909.],\n",
       "       [  52.,  103.,  153.,  210.,  257.,  306.,  355.,  415.,  440.,\n",
       "         495.,  557.,  602.,  635.,  684.,  729.,  790.,  821.,  854.,\n",
       "         895.,  910.],\n",
       "       [  47.,  106.,  155.,  206.,  256.,  313.,  370.,  411.,  455.,\n",
       "         505.,  554.,  600.,  647.,  691.,  727.,  768.,  817.,  859.,\n",
       "         899.,  922.],\n",
       "       [  52.,  101.,  155.,  213.,  273.,  304.,  363.,  406.,  465.,\n",
       "         510.,  556.,  603.,  657.,  711.,  740.,  785.,  819.,  857.,\n",
       "         899.,  917.]])"
      ]
     },
     "execution_count": 728,
     "metadata": {},
     "output_type": "execute_result"
    }
   ],
   "source": [
    "x_store_pred"
   ]
  },
  {
   "cell_type": "code",
   "execution_count": 729,
   "metadata": {},
   "outputs": [],
   "source": [
    "p = 1000\n",
    "A = simul_data(n = p, p = p)"
   ]
  },
  {
   "cell_type": "code",
   "execution_count": 576,
   "metadata": {},
   "outputs": [
    {
     "name": "stdout",
     "output_type": "stream",
     "text": [
      "0.000243201830556\n"
     ]
    }
   ],
   "source": [
    "# s_step = n_tmp // size\n",
    "# s_tmp = (i+1) * s_step\n",
    "\n",
    "rho = 0.3\n",
    "delta = 0.1\n",
    "\n",
    "n_tmp = int(p*delta)\n",
    "s = int(rho*n_tmp)\n",
    "# ix = np.arange(n)\n",
    "#ix_tmp = np.random.choice(ix, n_tmp)\n",
    "\n",
    "x, y, e = genPhenotype(A=A[:n_tmp][:], s=s, h2=1.) \n",
    "\n",
    "# x_pred = lasso(A[ix_tmp, :], y, lambd = lambd)\n",
    "x_pred = iterativeLasso(A[:n_tmp][:], y, nb_lambd=100, normalize=True, verbose=False)"
   ]
  },
  {
   "cell_type": "code",
   "execution_count": 469,
   "metadata": {},
   "outputs": [
    {
     "data": {
      "text/plain": [
       "0.49342572032238585"
      ]
     },
     "execution_count": 469,
     "metadata": {},
     "output_type": "execute_result"
    }
   ],
   "source": [
    "np.linalg.norm(x-x_pred)/np.linalg.norm(x)"
   ]
  },
  {
   "cell_type": "code",
   "execution_count": null,
   "metadata": {},
   "outputs": [],
   "source": []
  }
 ],
 "metadata": {
  "kernelspec": {
   "display_name": "Python [conda env:hackathon]",
   "language": "python",
   "name": "conda-env-hackathon-py"
  },
  "language_info": {
   "codemirror_mode": {
    "name": "ipython",
    "version": 3
   },
   "file_extension": ".py",
   "mimetype": "text/x-python",
   "name": "python",
   "nbconvert_exporter": "python",
   "pygments_lexer": "ipython3",
   "version": "3.4.5"
  }
 },
 "nbformat": 4,
 "nbformat_minor": 2
}
